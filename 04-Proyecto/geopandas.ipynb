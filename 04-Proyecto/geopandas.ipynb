{
 "cells": [
  {
   "cell_type": "markdown",
   "metadata": {},
   "source": [
    "<div style=\"position: relative; text-align: center; padding: 30px;\">\n",
    "  <h1><strong>Comparasión de Clasificadores</strong></h1>\n",
    "  <h3><strong>Walter y Heri</strong></h3>\n",
    "</div>"
   ]
  },
  {
   "cell_type": "markdown",
   "metadata": {},
   "source": [
    "**Objetivo**\n",
    "Investigar diferentes herramientas en QGIS y Geopandas para el manejo de datos geoespaciales, elaborar un manual y compartirlo con el grupo.\n",
    "\n",
    "**Instrucciones**\n",
    "\n",
    "1. Identificar el proyecto a realizar dependiendo del número de equipo inscrito.\n",
    "\n",
    "2. Elaborar una notebook de Python donde se explique el funcionamiento de las herramientas (métodos, librerías, funciones, etc) correspondientes, así como de sus métodos principales.\n",
    "\n",
    "4. **Ejemplo Práctico:**\n",
    "   - En ambos casos, el equipo debe diseñar un ejemplo práctico para ilustrar el funcionamiento de los métodos. Este ejemplo debe utilizar datos provenientes del INEGI (excepto OSMnx).\n",
    "   - Deben adjuntar los archivos utilizados los cuales deben estar exclusivamente en formato .gpkg sin excepción, y pesar menos de 100MB. En caso de que los archivos originales sean muy pesados, se recomienda filtrarlos para quedarse con una selección ligera.\n",
    "\n",
    "**Equipo 6:** Superposición espacial: Métodos de Geopandas `.overlay()` y `.clip()`."
   ]
  },
  {
   "cell_type": "code",
   "execution_count": null,
   "metadata": {},
   "outputs": [],
   "source": [
    "# a"
   ]
  }
 ],
 "metadata": {
  "kernelspec": {
   "display_name": "GDA",
   "language": "python",
   "name": "python3"
  },
  "language_info": {
   "name": "python",
   "version": "3.9.21"
  }
 },
 "nbformat": 4,
 "nbformat_minor": 2
}
