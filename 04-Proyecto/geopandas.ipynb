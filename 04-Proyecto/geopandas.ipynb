{
 "cells": [
  {
   "cell_type": "markdown",
   "metadata": {},
   "source": [
    "<div style=\"position: relative; text-align: center; padding: 30px;\">\n",
    "  <h1><strong>Comparasión de Clasificadores</strong></h1>\n",
    "  <h3><strong>Walter y Heri</strong></h3>\n",
    "</div>"
   ]
  },
  {
   "cell_type": "code",
   "execution_count": null,
   "metadata": {},
   "outputs": [],
   "source": [
    "# a"
   ]
  }
 ],
 "metadata": {
  "kernelspec": {
   "display_name": "GDA",
   "language": "python",
   "name": "python3"
  },
  "language_info": {
   "name": "python",
   "version": "3.9.21"
  }
 },
 "nbformat": 4,
 "nbformat_minor": 2
}
